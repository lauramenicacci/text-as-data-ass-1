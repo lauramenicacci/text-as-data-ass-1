{
 "cells": [
  {
   "cell_type": "markdown",
   "id": "5057f58e-3be6-4551-bd3f-391e864a8667",
   "metadata": {},
   "source": [
    "## Task 1"
   ]
  },
  {
   "cell_type": "code",
   "execution_count": 86,
   "id": "9ebf003d-692f-4e1a-8ab9-65af303c6abc",
   "metadata": {},
   "outputs": [],
   "source": [
    "import os\n",
    "import pandas as pd \n",
    "import numpy as np "
   ]
  },
  {
   "cell_type": "code",
   "execution_count": 99,
   "id": "40c8c670-62cb-401c-9cc2-94a127c4b5ef",
   "metadata": {},
   "outputs": [],
   "source": [
    "# suppress pandas (append) future warning\n",
    "import warnings\n",
    "warnings.simplefilter(action='ignore', category=FutureWarning)\n",
    "\n",
    "import pandas\n",
    "pd.reset_option('all')"
   ]
  },
  {
   "cell_type": "code",
   "execution_count": null,
   "id": "20e95019-ab53-4bd0-a2f1-c9f789f367aa",
   "metadata": {},
   "outputs": [],
   "source": [
    "# import data\n",
    "\n",
    "with open(\"WB_songs.txt\", 'r', encoding = \"utf-8\") as p:\n",
    "    songs = p.read()\n",
    "    \n",
    "songs"
   ]
  },
  {
   "cell_type": "code",
   "execution_count": 89,
   "id": "654125c3-614f-4003-95c7-639a74da4088",
   "metadata": {},
   "outputs": [],
   "source": [
    "starting_point = songs.find('The Voice of the Ancient Bard\\n\\n\\n\\n\\n')\n",
    "\n",
    "starting_point += len('The Voice of the Ancient Bard\\n\\n\\n\\n\\n')"
   ]
  },
  {
   "cell_type": "code",
   "execution_count": null,
   "id": "53882e77-1cc0-4834-9e59-3884bd83e368",
   "metadata": {},
   "outputs": [],
   "source": [
    "new_songs = songs[starting_point:]"
   ]
  },
  {
   "cell_type": "code",
   "execution_count": 91,
   "id": "493b0874-1b87-48d3-9d92-331d723ff6fc",
   "metadata": {},
   "outputs": [],
   "source": [
    "splittedpoems = new_songs.split(\"\\n\\n\\n\\n\\n\")"
   ]
  },
  {
   "cell_type": "code",
   "execution_count": 92,
   "id": "0d551a23-721b-4bd2-ae9d-5b5beaf39889",
   "metadata": {},
   "outputs": [
    {
     "data": {
      "text/plain": [
       "50"
      ]
     },
     "execution_count": 92,
     "metadata": {},
     "output_type": "execute_result"
    }
   ],
   "source": [
    "len(splittedpoems)"
   ]
  },
  {
   "cell_type": "code",
   "execution_count": 93,
   "id": "630c1e20-af27-4a97-94c5-f00290f6513a",
   "metadata": {},
   "outputs": [],
   "source": [
    "splitted_poems = splittedpoems[:-1] # remove last useless part "
   ]
  },
  {
   "cell_type": "code",
   "execution_count": 95,
   "id": "1c84cda7-1065-427c-b550-a58da74bacbd",
   "metadata": {},
   "outputs": [],
   "source": [
    "for poem in splitted_poems:\n",
    "     poems = poem.split('\\n')\n",
    "\n",
    "poems = list(map(lambda x: x.split('\\n'), splitted_poems))"
   ]
  },
  {
   "cell_type": "code",
   "execution_count": 132,
   "id": "3cc86113-ff8d-447a-94a1-7cd6bf5ca7a1",
   "metadata": {},
   "outputs": [
    {
     "data": {
      "text/plain": [
       "'SONGS OF INNOCENCE'"
      ]
     },
     "execution_count": 132,
     "metadata": {},
     "output_type": "execute_result"
    }
   ],
   "source": [
    "poems[0][0]"
   ]
  },
  {
   "cell_type": "code",
   "execution_count": 163,
   "id": "7507fd24-d927-4073-95a7-5d614a6a6406",
   "metadata": {},
   "outputs": [
    {
     "data": {
      "text/html": [
       "<div>\n",
       "<style scoped>\n",
       "    .dataframe tbody tr th:only-of-type {\n",
       "        vertical-align: middle;\n",
       "    }\n",
       "\n",
       "    .dataframe tbody tr th {\n",
       "        vertical-align: top;\n",
       "    }\n",
       "\n",
       "    .dataframe thead th {\n",
       "        text-align: right;\n",
       "    }\n",
       "</style>\n",
       "<table border=\"1\" class=\"dataframe\">\n",
       "  <thead>\n",
       "    <tr style=\"text-align: right;\">\n",
       "      <th></th>\n",
       "      <th>line</th>\n",
       "      <th>line_number</th>\n",
       "      <th>stanza</th>\n",
       "      <th>poem_title</th>\n",
       "      <th>book_title</th>\n",
       "    </tr>\n",
       "  </thead>\n",
       "  <tbody>\n",
       "    <tr>\n",
       "      <th>0</th>\n",
       "      <td>SONGS OF INNOCENCE</td>\n",
       "      <td>1</td>\n",
       "      <td>1</td>\n",
       "      <td>SONGS OF INNOCENCE</td>\n",
       "      <td>SONGS OF INNOCENCE</td>\n",
       "    </tr>\n",
       "    <tr>\n",
       "      <th>1</th>\n",
       "      <td>INTRODUCTION</td>\n",
       "      <td>1</td>\n",
       "      <td>1</td>\n",
       "      <td>INTRODUCTION</td>\n",
       "      <td>SONGS OF INNOCENCE</td>\n",
       "    </tr>\n",
       "    <tr>\n",
       "      <th>2</th>\n",
       "      <td></td>\n",
       "      <td>0</td>\n",
       "      <td>1</td>\n",
       "      <td></td>\n",
       "      <td>SONGS OF INNOCENCE</td>\n",
       "    </tr>\n",
       "    <tr>\n",
       "      <th>3</th>\n",
       "      <td></td>\n",
       "      <td>0</td>\n",
       "      <td>1</td>\n",
       "      <td></td>\n",
       "      <td>SONGS OF INNOCENCE</td>\n",
       "    </tr>\n",
       "    <tr>\n",
       "      <th>4</th>\n",
       "      <td>Piping down the valleys wild,</td>\n",
       "      <td>1</td>\n",
       "      <td>1</td>\n",
       "      <td></td>\n",
       "      <td>SONGS OF INNOCENCE</td>\n",
       "    </tr>\n",
       "    <tr>\n",
       "      <th>...</th>\n",
       "      <td>...</td>\n",
       "      <td>...</td>\n",
       "      <td>...</td>\n",
       "      <td>...</td>\n",
       "      <td>...</td>\n",
       "    </tr>\n",
       "    <tr>\n",
       "      <th>1201</th>\n",
       "      <td>Tangled roots perplex her ways;</td>\n",
       "      <td>1</td>\n",
       "      <td>1</td>\n",
       "      <td></td>\n",
       "      <td>SONGS OF INNOCENCE</td>\n",
       "    </tr>\n",
       "    <tr>\n",
       "      <th>1202</th>\n",
       "      <td>How many have fallen there!</td>\n",
       "      <td>1</td>\n",
       "      <td>1</td>\n",
       "      <td></td>\n",
       "      <td>SONGS OF INNOCENCE</td>\n",
       "    </tr>\n",
       "    <tr>\n",
       "      <th>1203</th>\n",
       "      <td>They stumble all night over bones of the dead;</td>\n",
       "      <td>1</td>\n",
       "      <td>1</td>\n",
       "      <td></td>\n",
       "      <td>SONGS OF INNOCENCE</td>\n",
       "    </tr>\n",
       "    <tr>\n",
       "      <th>1204</th>\n",
       "      <td>And feel—they know not what but care;</td>\n",
       "      <td>1</td>\n",
       "      <td>1</td>\n",
       "      <td></td>\n",
       "      <td>SONGS OF INNOCENCE</td>\n",
       "    </tr>\n",
       "    <tr>\n",
       "      <th>1205</th>\n",
       "      <td>And wish to lead others, when they should be led.</td>\n",
       "      <td>1</td>\n",
       "      <td>1</td>\n",
       "      <td></td>\n",
       "      <td>SONGS OF INNOCENCE</td>\n",
       "    </tr>\n",
       "  </tbody>\n",
       "</table>\n",
       "<p>1206 rows × 5 columns</p>\n",
       "</div>"
      ],
      "text/plain": [
       "                                                   line line_number stanza  \\\n",
       "0                                    SONGS OF INNOCENCE           1      1   \n",
       "1                                          INTRODUCTION           1      1   \n",
       "2                                                                 0      1   \n",
       "3                                                                 0      1   \n",
       "4                         Piping down the valleys wild,           1      1   \n",
       "...                                                 ...         ...    ...   \n",
       "1201                    Tangled roots perplex her ways;           1      1   \n",
       "1202                        How many have fallen there!           1      1   \n",
       "1203     They stumble all night over bones of the dead;           1      1   \n",
       "1204              And feel—they know not what but care;           1      1   \n",
       "1205  And wish to lead others, when they should be led.           1      1   \n",
       "\n",
       "              poem_title          book_title  \n",
       "0     SONGS OF INNOCENCE  SONGS OF INNOCENCE  \n",
       "1           INTRODUCTION  SONGS OF INNOCENCE  \n",
       "2                         SONGS OF INNOCENCE  \n",
       "3                         SONGS OF INNOCENCE  \n",
       "4                         SONGS OF INNOCENCE  \n",
       "...                  ...                 ...  \n",
       "1201                      SONGS OF INNOCENCE  \n",
       "1202                      SONGS OF INNOCENCE  \n",
       "1203                      SONGS OF INNOCENCE  \n",
       "1204                      SONGS OF INNOCENCE  \n",
       "1205                      SONGS OF INNOCENCE  \n",
       "\n",
       "[1206 rows x 5 columns]"
      ]
     },
     "execution_count": 163,
     "metadata": {},
     "output_type": "execute_result"
    }
   ],
   "source": [
    "df = pd.DataFrame(columns = ['line', 'line_number', 'stanza', 'poem_title', 'book_title'])\n",
    "\n",
    "dic = {}\n",
    "\n",
    "#line_counter = 0\n",
    "#stanza_counter = 0\n",
    "#book_title = ''\n",
    "\n",
    "# poem_title = ''\n",
    "book_title = \"SONGS OF INNOCENCE\"\n",
    "for poem in poems:\n",
    "    if poem[0] == \"SONGS OF EXPERIENCE\":\n",
    "        book_title = poem[0]\n",
    "        poems.remove(poem)\n",
    "    for line in poem:\n",
    "        line_counter = 0\n",
    "        stanza_counter = 0\n",
    "        #print(line)\n",
    "        if line == line.upper():\n",
    "            poem_title = line\n",
    "        if line == '':\n",
    "            stanza_counter += 1\n",
    "        if line != '':\n",
    "            stanza_counter += 1\n",
    "            line_counter += 1       \n",
    "        dic = {}\n",
    "        dic['line_number'] = line_counter\n",
    "        dic['line'] = line\n",
    "        dic['poem_title'] = poem_title\n",
    "        dic['stanza'] = stanza_counter\n",
    "        dic['book_title'] = book_title\n",
    "        df = df.append(dic, ignore_index=True)\n",
    "        #print(dic)\n",
    "        \n",
    "df"
   ]
  },
  {
   "cell_type": "markdown",
   "id": "e0b143ba-06f7-4979-82f4-edbec6e46e50",
   "metadata": {},
   "source": [
    "Couldn't make it in time :(( "
   ]
  },
  {
   "cell_type": "markdown",
   "id": "1a922511-e3f8-4112-9a0f-bb67e2b822da",
   "metadata": {
    "jp-MarkdownHeadingCollapsed": true,
    "tags": []
   },
   "source": [
    "### Create a histogram showing the number of lines per poem "
   ]
  },
  {
   "cell_type": "code",
   "execution_count": null,
   "id": "3e44515c-64bc-465d-a5da-03b84ce5e79e",
   "metadata": {},
   "outputs": [],
   "source": [
    "import seaborn as sns\n",
    "import matplotlib.pyplot as plt"
   ]
  },
  {
   "cell_type": "code",
   "execution_count": 221,
   "id": "f3043e5d-b5a5-41b6-b3ad-07ad7854bcd8",
   "metadata": {
    "tags": []
   },
   "outputs": [],
   "source": [
    "df = pd.read_csv(r'C:\\Users\\laura\\OneDrive\\Documenti\\LAURA\\HERTIE 22-23\\Text_as_Data\\text-as-data\\text-as-data\\Assignments\\innocence_experience.csv', encoding = 'utf-8')"
   ]
  },
  {
   "cell_type": "code",
   "execution_count": 378,
   "id": "376ad510-c47b-4b82-915b-7062d3879773",
   "metadata": {},
   "outputs": [
    {
     "data": {
      "text/plain": [
       "[Text(0.5, 0, 'Lines'), Text(0, 0.5, 'Poems')]"
      ]
     },
     "execution_count": 378,
     "metadata": {},
     "output_type": "execute_result"
    },
    {
     "data": {
      "image/png": "[encoded data removed]",
      "text/plain": [
       "<Figure size 432x1080 with 1 Axes>"
      ]
     },
     "metadata": {
      "needs_background": "light"
     },
     "output_type": "display_data"
    }
   ],
   "source": [
    "df_plot = df.groupby(['poem', 'book'], as_index = False).count()\n",
    "\n",
    "f, ax = plt.subplots(figsize=(6, 15))\n",
    "\n",
    "sns.set_color_codes(\"pastel\")\n",
    "sns.barplot(data=df_plot, y=\"poem\", x=\"line_n\", \n",
    "            hue=\"book\") # here coloured bars by poem since there are 3 poem titles present in both books\n",
    "\n",
    "ax.set(xlabel = 'Lines', ylabel = 'Poems')"
   ]
  },
  {
   "cell_type": "code",
   "execution_count": null,
   "id": "10e955fa-78a1-4404-8b2e-41cbda610584",
   "metadata": {},
   "outputs": [],
   "source": [
    "import nltk\n",
    "from nltk.corpus import stopwords\n",
    "from sklearn.feature_extraction.text import CountVectorizer, TfidfVectorizer"
   ]
  },
  {
   "cell_type": "code",
   "execution_count": 274,
   "id": "a26908bb-eafa-4607-b8af-1c516605495a",
   "metadata": {},
   "outputs": [],
   "source": [
    "# dfm treating each line to document \n",
    "\n",
    "# short preprocessing\n",
    "stop_words = list(stopwords.words('english'))\n",
    "df_line = df['text']\n",
    "df_line.str.lower()\n",
    " \n",
    "vectorizer = CountVectorizer(stop_words = stop_words)\n",
    "dfm_line = vectorizer.fit_transform(df_line)\n",
    "df_line = pd.DataFrame(dfm_line.todense(),\n",
    "columns=vectorizer.get_feature_names_out())"
   ]
  },
  {
   "cell_type": "code",
   "execution_count": 275,
   "id": "df66526c-ce15-44e6-989b-2b7554d23d3c",
   "metadata": {},
   "outputs": [],
   "source": [
    "# dfm poem to document\n",
    "\n",
    "# short preprocessing\n",
    "vectorizer = CountVectorizer(stop_words = stop_words)\n",
    "df_grouped = (df\n",
    " .groupby([\"book\", \"poem\"])\n",
    " .agg(lambda x: \" \".join(x))\n",
    " .reset_index()\n",
    ")\n",
    "\n",
    "dfm_poem = vectorizer.fit_transform(df_grouped.text)\n",
    "\n",
    "df_poem = pd.DataFrame(dfm_poem.todense(),\n",
    "columns=vectorizer.get_feature_names_out())"
   ]
  },
  {
   "cell_type": "code",
   "execution_count": 291,
   "id": "306f882e-a10e-4625-825a-fb1b24eb28e4",
   "metadata": {},
   "outputs": [],
   "source": [
    "df_book = (df\n",
    " .groupby([\"book\"])\n",
    " .agg(lambda x: \" \".join(x))\n",
    " .drop(['poem'], axis=1)\n",
    " .reset_index()\n",
    ")\n",
    "\n",
    "dfm_b = vectorizer.fit_transform(df_book['text'])\n",
    "\n",
    "df_b = pd.DataFrame(dfm_b.todense(),\n",
    "columns=vectorizer.get_feature_names_out())\n",
    "\n",
    "\n",
    "df_final = pd.concat([df_book['book'], df_b], axis = 1, join='outer')"
   ]
  },
  {
   "cell_type": "code",
   "execution_count": 325,
   "id": "33bd014c-8e0c-4a4c-8dfc-d376a9a60608",
   "metadata": {},
   "outputs": [],
   "source": [
    "df_rank=(df_final\n",
    " .set_index(\"book\")\n",
    " .stack()\n",
    " .reset_index()\n",
    " .sort_values(['book', 0], ascending=False)\n",
    " .groupby(\"book\")\n",
    " .head(15)\n",
    ")\n",
    "df_rank.book = [book[0] for book in df_rank.book]"
   ]
  },
  {
   "cell_type": "code",
   "execution_count": 326,
   "id": "9ab12efb-01d5-4cb3-a4c5-c94699192a93",
   "metadata": {},
   "outputs": [
    {
     "data": {
      "text/html": [
       "<div>\n",
       "<style scoped>\n",
       "    .dataframe tbody tr th:only-of-type {\n",
       "        vertical-align: middle;\n",
       "    }\n",
       "\n",
       "    .dataframe tbody tr th {\n",
       "        vertical-align: top;\n",
       "    }\n",
       "\n",
       "    .dataframe thead th {\n",
       "        text-align: right;\n",
       "    }\n",
       "</style>\n",
       "<table border=\"1\" class=\"dataframe\">\n",
       "  <thead>\n",
       "    <tr style=\"text-align: right;\">\n",
       "      <th></th>\n",
       "      <th>book</th>\n",
       "      <th>words</th>\n",
       "      <th>count</th>\n",
       "    </tr>\n",
       "  </thead>\n",
       "  <tbody>\n",
       "    <tr>\n",
       "      <th>2123</th>\n",
       "      <td>SONGS OF INNOCENCE</td>\n",
       "      <td>thee</td>\n",
       "      <td>25</td>\n",
       "    </tr>\n",
       "    <tr>\n",
       "      <th>1711</th>\n",
       "      <td>SONGS OF INNOCENCE</td>\n",
       "      <td>little</td>\n",
       "      <td>21</td>\n",
       "    </tr>\n",
       "    <tr>\n",
       "      <th>2102</th>\n",
       "      <td>SONGS OF INNOCENCE</td>\n",
       "      <td>sweet</td>\n",
       "      <td>19</td>\n",
       "    </tr>\n",
       "    <tr>\n",
       "      <th>1657</th>\n",
       "      <td>SONGS OF INNOCENCE</td>\n",
       "      <td>joy</td>\n",
       "      <td>17</td>\n",
       "    </tr>\n",
       "    <tr>\n",
       "      <th>1587</th>\n",
       "      <td>SONGS OF INNOCENCE</td>\n",
       "      <td>happy</td>\n",
       "      <td>13</td>\n",
       "    </tr>\n",
       "    <tr>\n",
       "      <th>1706</th>\n",
       "      <td>SONGS OF INNOCENCE</td>\n",
       "      <td>like</td>\n",
       "      <td>13</td>\n",
       "    </tr>\n",
       "    <tr>\n",
       "      <th>1310</th>\n",
       "      <td>SONGS OF INNOCENCE</td>\n",
       "      <td>child</td>\n",
       "      <td>12</td>\n",
       "    </tr>\n",
       "    <tr>\n",
       "      <th>1563</th>\n",
       "      <td>SONGS OF INNOCENCE</td>\n",
       "      <td>green</td>\n",
       "      <td>12</td>\n",
       "    </tr>\n",
       "    <tr>\n",
       "      <th>1673</th>\n",
       "      <td>SONGS OF INNOCENCE</td>\n",
       "      <td>lamb</td>\n",
       "      <td>12</td>\n",
       "    </tr>\n",
       "    <tr>\n",
       "      <th>2144</th>\n",
       "      <td>SONGS OF INNOCENCE</td>\n",
       "      <td>thy</td>\n",
       "      <td>12</td>\n",
       "    </tr>\n",
       "    <tr>\n",
       "      <th>1471</th>\n",
       "      <td>SONGS OF INNOCENCE</td>\n",
       "      <td>father</td>\n",
       "      <td>11</td>\n",
       "    </tr>\n",
       "    <tr>\n",
       "      <th>2009</th>\n",
       "      <td>SONGS OF INNOCENCE</td>\n",
       "      <td>sleep</td>\n",
       "      <td>11</td>\n",
       "    </tr>\n",
       "    <tr>\n",
       "      <th>2230</th>\n",
       "      <td>SONGS OF INNOCENCE</td>\n",
       "      <td>weep</td>\n",
       "      <td>11</td>\n",
       "    </tr>\n",
       "    <tr>\n",
       "      <th>1641</th>\n",
       "      <td>SONGS OF INNOCENCE</td>\n",
       "      <td>infant</td>\n",
       "      <td>10</td>\n",
       "    </tr>\n",
       "    <tr>\n",
       "      <th>1728</th>\n",
       "      <td>SONGS OF INNOCENCE</td>\n",
       "      <td>love</td>\n",
       "      <td>10</td>\n",
       "    </tr>\n",
       "    <tr>\n",
       "      <th>663</th>\n",
       "      <td>SONGS OF EXPERIENCE</td>\n",
       "      <td>night</td>\n",
       "      <td>19</td>\n",
       "    </tr>\n",
       "    <tr>\n",
       "      <th>1000</th>\n",
       "      <td>SONGS OF EXPERIENCE</td>\n",
       "      <td>thy</td>\n",
       "      <td>19</td>\n",
       "    </tr>\n",
       "    <tr>\n",
       "      <th>567</th>\n",
       "      <td>SONGS OF EXPERIENCE</td>\n",
       "      <td>little</td>\n",
       "      <td>15</td>\n",
       "    </tr>\n",
       "    <tr>\n",
       "      <th>865</th>\n",
       "      <td>SONGS OF EXPERIENCE</td>\n",
       "      <td>sleep</td>\n",
       "      <td>13</td>\n",
       "    </tr>\n",
       "    <tr>\n",
       "      <th>584</th>\n",
       "      <td>SONGS OF EXPERIENCE</td>\n",
       "      <td>love</td>\n",
       "      <td>12</td>\n",
       "    </tr>\n",
       "    <tr>\n",
       "      <th>226</th>\n",
       "      <td>SONGS OF EXPERIENCE</td>\n",
       "      <td>day</td>\n",
       "      <td>11</td>\n",
       "    </tr>\n",
       "    <tr>\n",
       "      <th>306</th>\n",
       "      <td>SONGS OF EXPERIENCE</td>\n",
       "      <td>er</td>\n",
       "      <td>11</td>\n",
       "    </tr>\n",
       "    <tr>\n",
       "      <th>327</th>\n",
       "      <td>SONGS OF EXPERIENCE</td>\n",
       "      <td>father</td>\n",
       "      <td>11</td>\n",
       "    </tr>\n",
       "    <tr>\n",
       "      <th>457</th>\n",
       "      <td>SONGS OF EXPERIENCE</td>\n",
       "      <td>heart</td>\n",
       "      <td>10</td>\n",
       "    </tr>\n",
       "    <tr>\n",
       "      <th>638</th>\n",
       "      <td>SONGS OF EXPERIENCE</td>\n",
       "      <td>mother</td>\n",
       "      <td>10</td>\n",
       "    </tr>\n",
       "    <tr>\n",
       "      <th>1086</th>\n",
       "      <td>SONGS OF EXPERIENCE</td>\n",
       "      <td>weep</td>\n",
       "      <td>10</td>\n",
       "    </tr>\n",
       "    <tr>\n",
       "      <th>41</th>\n",
       "      <td>SONGS OF EXPERIENCE</td>\n",
       "      <td>away</td>\n",
       "      <td>9</td>\n",
       "    </tr>\n",
       "    <tr>\n",
       "      <th>123</th>\n",
       "      <td>SONGS OF EXPERIENCE</td>\n",
       "      <td>bright</td>\n",
       "      <td>9</td>\n",
       "    </tr>\n",
       "    <tr>\n",
       "      <th>486</th>\n",
       "      <td>SONGS OF EXPERIENCE</td>\n",
       "      <td>human</td>\n",
       "      <td>9</td>\n",
       "    </tr>\n",
       "    <tr>\n",
       "      <th>589</th>\n",
       "      <td>SONGS OF EXPERIENCE</td>\n",
       "      <td>lyca</td>\n",
       "      <td>9</td>\n",
       "    </tr>\n",
       "  </tbody>\n",
       "</table>\n",
       "</div>"
      ],
      "text/plain": [
       "                     book   words  count\n",
       "2123   SONGS OF INNOCENCE    thee     25\n",
       "1711   SONGS OF INNOCENCE  little     21\n",
       "2102   SONGS OF INNOCENCE   sweet     19\n",
       "1657   SONGS OF INNOCENCE     joy     17\n",
       "1587   SONGS OF INNOCENCE   happy     13\n",
       "1706   SONGS OF INNOCENCE    like     13\n",
       "1310   SONGS OF INNOCENCE   child     12\n",
       "1563   SONGS OF INNOCENCE   green     12\n",
       "1673   SONGS OF INNOCENCE    lamb     12\n",
       "2144   SONGS OF INNOCENCE     thy     12\n",
       "1471   SONGS OF INNOCENCE  father     11\n",
       "2009   SONGS OF INNOCENCE   sleep     11\n",
       "2230   SONGS OF INNOCENCE    weep     11\n",
       "1641   SONGS OF INNOCENCE  infant     10\n",
       "1728   SONGS OF INNOCENCE    love     10\n",
       "663   SONGS OF EXPERIENCE   night     19\n",
       "1000  SONGS OF EXPERIENCE     thy     19\n",
       "567   SONGS OF EXPERIENCE  little     15\n",
       "865   SONGS OF EXPERIENCE   sleep     13\n",
       "584   SONGS OF EXPERIENCE    love     12\n",
       "226   SONGS OF EXPERIENCE     day     11\n",
       "306   SONGS OF EXPERIENCE      er     11\n",
       "327   SONGS OF EXPERIENCE  father     11\n",
       "457   SONGS OF EXPERIENCE   heart     10\n",
       "638   SONGS OF EXPERIENCE  mother     10\n",
       "1086  SONGS OF EXPERIENCE    weep     10\n",
       "41    SONGS OF EXPERIENCE    away      9\n",
       "123   SONGS OF EXPERIENCE  bright      9\n",
       "486   SONGS OF EXPERIENCE   human      9\n",
       "589   SONGS OF EXPERIENCE    lyca      9"
      ]
     },
     "execution_count": 326,
     "metadata": {},
     "output_type": "execute_result"
    }
   ],
   "source": [
    "# renaming cols for plotting\n",
    "df_rank = df_rank.rename(columns = {0 : 'count', 'level_1': 'words'})\n",
    "df_rank"
   ]
  },
  {
   "cell_type": "code",
   "execution_count": 327,
   "id": "6e312c59-ac1b-492c-962e-1949acc96824",
   "metadata": {},
   "outputs": [
    {
     "data": {
      "text/plain": [
       "<AxesSubplot:xlabel='words', ylabel='count'>"
      ]
     },
     "execution_count": 327,
     "metadata": {},
     "output_type": "execute_result"
    },
    {
     "data": {
      "image/png": "[encoded data removed]",
      "text/plain": [
       "<Figure size 864x576 with 1 Axes>"
      ]
     },
     "metadata": {
      "needs_background": "light"
     },
     "output_type": "display_data"
    }
   ],
   "source": [
    "fig, ax = plt.subplots(figsize = (12, 8))\n",
    "\n",
    "palette = sns.color_palette(\"Set2\", as_cmap=True)\n",
    "\n",
    "sns.barplot(\n",
    "  data=df_rank, ax = ax,\n",
    "  x=\"words\", y=\"count\", \n",
    "  hue=\"book\", \n",
    "  palette = sns.color_palette(\"Set2\", as_cmap=False)\n",
    ")"
   ]
  },
  {
   "cell_type": "markdown",
   "id": "be148c98-6f6d-4b7f-9fbd-1105669c630a",
   "metadata": {
    "jp-MarkdownHeadingCollapsed": true,
    "tags": []
   },
   "source": [
    "### Comment\n",
    "We can see two distingusheable trends here. Songs of Innocence is more linked to abstract words, like 'happy' and 'joy'. Also words like child and lamb are quite frequent, recalling probably from Biblical symbols. Songs of Experience instead has two semantically close words, sleep and night, probably indicating a trend for poems to be settled in dreamy environments or similar. The word human, and connections to human beings (father, mother) are also present - contrarily to Songs of Innocence - and this could be an interesting connection with the concept of 'Experience', which deals with a more human-related realm.  "
   ]
  },
  {
   "cell_type": "markdown",
   "id": "49814054-c2fc-4512-be41-79f4d9b6ddca",
   "metadata": {
    "tags": []
   },
   "source": [
    "## Task 2"
   ]
  },
  {
   "cell_type": "code",
   "execution_count": 3,
   "id": "5d25297c-7744-46cc-8fcf-d8bb4240eeea",
   "metadata": {},
   "outputs": [],
   "source": [
    "from bs4 import BeautifulSoup\n",
    "import pandas as pd\n",
    "import numpy as np\n",
    "import requests\n",
    "\n",
    "from bs4.element import Comment"
   ]
  },
  {
   "cell_type": "code",
   "execution_count": 42,
   "id": "00d84652-a40c-498e-a99a-e92c8ab66e5f",
   "metadata": {},
   "outputs": [],
   "source": [
    "url = 'https://www.bundestag.de/resource/blob/915646/552d8629012162f1bd35c703015e58b6/20060-data.xml'\n",
    "\n",
    "data = requests.get(url)\n",
    "\n",
    "soup = BeautifulSoup(data.content, features=\"xml\")\n",
    "soup.find_all('rede')[1].find('title')"
   ]
  },
  {
   "cell_type": "code",
   "execution_count": 64,
   "id": "51fdc293-8ed5-474a-a696-a5d0c79e98ce",
   "metadata": {},
   "outputs": [
    {
     "data": {
      "text/html": [
       "<div>\n",
       "<style scoped>\n",
       "    .dataframe tbody tr th:only-of-type {\n",
       "        vertical-align: middle;\n",
       "    }\n",
       "\n",
       "    .dataframe tbody tr th {\n",
       "        vertical-align: top;\n",
       "    }\n",
       "\n",
       "    .dataframe thead th {\n",
       "        text-align: right;\n",
       "    }\n",
       "</style>\n",
       "<table border=\"1\" class=\"dataframe\">\n",
       "  <thead>\n",
       "    <tr style=\"text-align: right;\">\n",
       "      <th></th>\n",
       "      <th>speaker</th>\n",
       "      <th>content</th>\n",
       "    </tr>\n",
       "  </thead>\n",
       "  <tbody>\n",
       "    <tr>\n",
       "      <th>0</th>\n",
       "      <td>Hubertus Heil</td>\n",
       "      <td>Meine sehr geehrte Frau Präsidentin! Liebe Kol...</td>\n",
       "    </tr>\n",
       "    <tr>\n",
       "      <th>1</th>\n",
       "      <td>Stephan Stracke</td>\n",
       "      <td>Frau Präsidentin! Meine sehr verehrten Damen u...</td>\n",
       "    </tr>\n",
       "    <tr>\n",
       "      <th>2</th>\n",
       "      <td>Beate Müller-Gemmeke</td>\n",
       "      <td>Sehr geehrte Frau Präsidentin! Sehr geehrter H...</td>\n",
       "    </tr>\n",
       "    <tr>\n",
       "      <th>3</th>\n",
       "      <td>Gerrit Huy</td>\n",
       "      <td>Frau Präsidentin! Meine Damen und Herren! Die ...</td>\n",
       "    </tr>\n",
       "    <tr>\n",
       "      <th>4</th>\n",
       "      <td>Jens Teutrine</td>\n",
       "      <td>Sehr geehrte Frau Präsidentin! Liebe Kolleginn...</td>\n",
       "    </tr>\n",
       "    <tr>\n",
       "      <th>...</th>\n",
       "      <td>...</td>\n",
       "      <td>...</td>\n",
       "    </tr>\n",
       "    <tr>\n",
       "      <th>140</th>\n",
       "      <td>Jan Wenzel Schmidt</td>\n",
       "      <td>Sehr geehrter Herr Präsident! Werte Kollegen! ...</td>\n",
       "    </tr>\n",
       "    <tr>\n",
       "      <th>141</th>\n",
       "      <td>Dr. Sebastian Schäfer</td>\n",
       "      <td>Sehr geehrter Herr Präsident! Sehr geehrte Kol...</td>\n",
       "    </tr>\n",
       "    <tr>\n",
       "      <th>142</th>\n",
       "      <td>Christian Görke</td>\n",
       "      <td>Herr Präsident! Liebe Kolleginnen und Kollegen...</td>\n",
       "    </tr>\n",
       "    <tr>\n",
       "      <th>143</th>\n",
       "      <td>Christian Hirte</td>\n",
       "      <td>Sehr geehrter Herr Präsident! Meine sehr geehr...</td>\n",
       "    </tr>\n",
       "    <tr>\n",
       "      <th>144</th>\n",
       "      <td>Timon Gremmels</td>\n",
       "      <td>So sehr wir nun alle Anstrengungen auf den bes...</td>\n",
       "    </tr>\n",
       "  </tbody>\n",
       "</table>\n",
       "<p>145 rows × 2 columns</p>\n",
       "</div>"
      ],
      "text/plain": [
       "                   speaker                                            content\n",
       "0            Hubertus Heil  Meine sehr geehrte Frau Präsidentin! Liebe Kol...\n",
       "1          Stephan Stracke  Frau Präsidentin! Meine sehr verehrten Damen u...\n",
       "2     Beate Müller-Gemmeke  Sehr geehrte Frau Präsidentin! Sehr geehrter H...\n",
       "3               Gerrit Huy  Frau Präsidentin! Meine Damen und Herren! Die ...\n",
       "4            Jens Teutrine  Sehr geehrte Frau Präsidentin! Liebe Kolleginn...\n",
       "..                     ...                                                ...\n",
       "140     Jan Wenzel Schmidt  Sehr geehrter Herr Präsident! Werte Kollegen! ...\n",
       "141  Dr. Sebastian Schäfer  Sehr geehrter Herr Präsident! Sehr geehrte Kol...\n",
       "142        Christian Görke  Herr Präsident! Liebe Kolleginnen und Kollegen...\n",
       "143        Christian Hirte  Sehr geehrter Herr Präsident! Meine sehr geehr...\n",
       "144         Timon Gremmels  So sehr wir nun alle Anstrengungen auf den bes...\n",
       "\n",
       "[145 rows x 2 columns]"
      ]
     },
     "execution_count": 64,
     "metadata": {},
     "output_type": "execute_result"
    }
   ],
   "source": [
    "df_speeches = pd.DataFrame(columns= ['speaker', 'content'])\n",
    "\n",
    "for speech in soup.find_all('rede'):\n",
    "    if speech.find('titel') != None:\n",
    "        title = speech.find('titel').text\n",
    "    else:\n",
    "        title = ''\n",
    "    if speech.find('vorname') != None:\n",
    "        vorname = speech.find('vorname').text\n",
    "    else:\n",
    "        vorname = ''\n",
    "    if speech.find('nachname') != None:\n",
    "        name =  speech.find('nachname').text\n",
    "    else:\n",
    "        name = ''\n",
    "    speaker = title + ' ' + vorname + ' ' + name\n",
    "    content = ''\n",
    "    parts = speech.find_all(\"p\", {\"klasse\" : [\"J\", \"J_1\", \"O\"]})\n",
    "    parts = \" \".join([p.get_text() for p in parts])\n",
    "    for part in parts:\n",
    "        content += part\n",
    "    \n",
    "    dic = {'speaker' : speaker, 'content' : content}\n",
    "\n",
    "    df_speeches = df_speeches.append(dic, ignore_index=True)\n",
    "\n",
    "df_speeches"
   ]
  },
  {
   "cell_type": "code",
   "execution_count": 84,
   "id": "3cdc67cb-ee6c-4248-be17-dd75ec9f3a89",
   "metadata": {},
   "outputs": [
    {
     "data": {
      "text/plain": [
       "25"
      ]
     },
     "execution_count": 84,
     "metadata": {},
     "output_type": "execute_result"
    }
   ],
   "source": [
    "speakers = list(df_speeches['speaker'])\n",
    "\n",
    "speakers.index(' Katrin Göring-Eckardt') # first speech "
   ]
  },
  {
   "cell_type": "code",
   "execution_count": 67,
   "id": "7f0c6b76-84e1-48bc-a855-04eb42dba4fd",
   "metadata": {},
   "outputs": [
    {
     "name": "stdout",
     "output_type": "stream",
     "text": [
      "Sehr geehrte Frau Präsidentin! Liebe Kolleginnen und Kollegen! Angela Merkel hat in dieser Woche den Nansen-Preis verliehen bekommen. Und was hat\n",
      "                    sie damit gemacht? Sie hat ihn den deutschen Flüchtlingshelferinnen und Flüchtlingshelfern gewidmet. Sie, liebe Kolleginnen und Kollegen von der Union, beschreiten jetzt den entgegengesetzten Weg. Sie fallen all denjenigen in den Rücken, die helfen,\n",
      "                    die organisieren, die arbeiten – in Verwaltungen, ehrenamtlich, wo auch immer. Das, was Sie mit Ihrem Antrag hier gerade machen, ist, Panik zu schüren. Und Sie\n",
      "                    machen das auf dem Rücken der Helfer/-innen, und Sie machen es auf dem Rücken der Geflüchteten. Ich finde das absurd und der demokratischen Diskussion hier nicht würdig, meine Damen und Herren. Jetzt wurde entlarvt, dass ihr Vorsitzender, Friedrich Merz, seinen unsäglichen Vorwurf gegen die Geflüchteten aufgrund einer anonymen\n",
      "                    Telegram-Nachricht gemacht hat. Herr Merz, ich will es mal so ausdrücken: Ich glaube nicht, dass Sie wollten, dass Sie damit positiv in den russischen Propagandamedien erscheinen.\n",
      "                    Aber, ich finde, es sollte für Sie, für alle, die so agieren, eine Warnung sein: Wenn man auf dem Rücken der ukrainischen Geflüchteten solche Nummern abzieht,\n",
      "                    dann ist das die Sache Putins, die da betrieben wird. Vielleicht machen Sie es ohne Absicht. Aber bitte überlegen Sie beim nächsten Mal ganz genau, was Sie\n",
      "                    sagen, damit das nicht geschieht, meine Damen und Herren! In Ihrem Antrag schimpfen Sie nun auf Sonderprogramme. Was genau meinen Sie? Meinen Sie die afghanischen Ortskräfte, deren Ausreise schwierig genug\n",
      "                    ist und bei denen wir im Wort sind? Meinen Sie die getrennten Familien, deren Nachzug Sie nicht wollen und deren Mitgliedern die Integration bei uns umso\n",
      "                    schwerer fällt, je länger sie getrennt sind? Meinen Sie Kinder, die dableiben müssen, damit ein Elternteil zu den anderen Kindern kann? Sorry, ich verstehe es\n",
      "                    nicht. Wen meinen Sie mit Sonderprogrammen? Meinen Sie etwa diejenigen, die besonders in Not sind? Es drängt mich, an dieser Stelle emotional zu werden, aber ich probiere es trotzdem anders. Ja, die Kommunen erleben eine große Herausforderung: 1 Million Menschen aus der Ukraine sind gekommen; nicht alle sind geblieben. Vernünftigerweise\n",
      "                    stellen sich die Kommunen jetzt auch auf einen Kriegswinter in der Ukraine ein. Jetzt kann man Grenzen dichtmachen oder sagen: Serbien soll das regeln. Das\n",
      "                    haben Sie in Ihrem Antrag ja so deutlich gemacht. Man kann Panik schüren, oder man kann die Sache einmal nüchtern betrachten: „Humanität und Ordnung“ heißt es und nicht „Humanität und Abschottung“,\n",
      "                    meine Damen und Herren. Die knapp 135 000 Menschen, die einen Asylantrag gestellt haben – es ist hier schon gesagt worden –, sind vor allem aus Syrien, Afghanistan und Irak.\n",
      "                    Was wollen Sie diesen Menschen mit Ihrem Antrag eigentlich sagen? Natürlich würde jeder von uns sagen: Wir brauchen schnelle Verfahren und in der Folge schnelle Rückführungen, damit die Menschen wissen, woran sie\n",
      "                    sind. Das ist überhaupt nicht das Thema. Und ja, die Unterbringung von so vielen Menschen ist ein enormer Kraftakt für unsere Kommunen und die Strukturen vor\n",
      "                    Ort. Es ist ein guter Schritt, dass sich Bund, Länder und Kommunen zusammensetzen und dass alle gemeinsam gesagt haben: Ja, auf der MPK brauchen wir Klarheit\n",
      "                    darüber, wie die Finanzierung funktioniert. Da sind wir uns einig. Aber, meine Damen und Herren, Push und Pull, das sind eingebildete Faktoren. Das ist wie mit eingebildeter Krankheit. Ich meine, Sie können sich ja mal die Aussagen aller Wissenschaftlerinnen und Wissenschaftler dazu anschauen,\n",
      "                    dann sehen Sie, dass es Quatsch ist. Lassen Sie uns doch andersherum agieren. Herr Oster hat das übrigens gerade gesagt: Lassen Sie es uns mal andersherum machen. – Wir könnten doch\n",
      "                    versuchen, uns auf unsere Stärken zu besinnen – Sie könnten das auch – und dafür zu sorgen, dass Integration gelingt, dass wir Chancen für mehr Arbeitskräfte\n",
      "                    haben. Es geht längst nicht mehr nur um Fachkräfte. Fragen Sie mal die Bauwirtschaft oder das Handwerk. Meine Damen und Herren, wir könnten gerne darüber streiten, wie das am besten gelingt. Aber ich bitte Sie inständig: nicht auf dem Rücken der\n",
      "                    geflüchteten Menschen. Wer aus dem Krieg flieht, der braucht unsere Hilfe und nichts anderes. Ich weiß, dass manche von Ihnen den Merkel-Satz „Wir schaffen das“ nicht mögen. Ich würde ganz einfach mal sagen: Es ist die ganz normale Politik,\n",
      "                    dass man Dinge schafft. Und diese beruht auf Humanität, auf Ordnung, auf gutem Willen, guter Zusammenarbeit und unserem Grundgesetz. Herzlichen Dank. Nächster Redner ist für die CDU/CSU-Fraktion Detlef Seif.\n"
     ]
    }
   ],
   "source": [
    "print(df_speeches['content'][25]) # content of first speech"
   ]
  },
  {
   "cell_type": "code",
   "execution_count": 68,
   "id": "adc1b31c-f308-4f51-96ba-d128ca014295",
   "metadata": {},
   "outputs": [
    {
     "name": "stdout",
     "output_type": "stream",
     "text": [
      "1\n"
     ]
    }
   ],
   "source": [
    "print(sum(df_speeches['speaker'] == ' Katrin Göring-Eckardt')) # number of speeches"
   ]
  },
  {
   "cell_type": "markdown",
   "id": "b1389feb-8c3f-4e11-bc5f-97cc11d72fa1",
   "metadata": {},
   "source": [
    "## Task 3"
   ]
  },
  {
   "cell_type": "code",
   "execution_count": 31,
   "id": "63914093-ac72-4e62-87dc-25eb1a533139",
   "metadata": {},
   "outputs": [],
   "source": [
    "import pandas as pd\n",
    "import re\n",
    "import string"
   ]
  },
  {
   "cell_type": "code",
   "execution_count": 69,
   "id": "ceadff90-4fd1-4372-abe7-4eaf8949e4f1",
   "metadata": {},
   "outputs": [
    {
     "data": {
      "text/html": [
       "<div>\n",
       "<style scoped>\n",
       "    .dataframe tbody tr th:only-of-type {\n",
       "        vertical-align: middle;\n",
       "    }\n",
       "\n",
       "    .dataframe tbody tr th {\n",
       "        vertical-align: top;\n",
       "    }\n",
       "\n",
       "    .dataframe thead th {\n",
       "        text-align: right;\n",
       "    }\n",
       "</style>\n",
       "<table border=\"1\" class=\"dataframe\">\n",
       "  <thead>\n",
       "    <tr style=\"text-align: right;\">\n",
       "      <th></th>\n",
       "      <th>speaker</th>\n",
       "      <th>content</th>\n",
       "    </tr>\n",
       "  </thead>\n",
       "  <tbody>\n",
       "    <tr>\n",
       "      <th>51</th>\n",
       "      <td>Maria-Lena Weiss</td>\n",
       "      <td>Frau Präsidentin! Liebe Kolleginnen und Kolleg...</td>\n",
       "    </tr>\n",
       "    <tr>\n",
       "      <th>54</th>\n",
       "      <td>Michael Kruse</td>\n",
       "      <td>Liebe Kolleginnen und Kollegen! Dieser Nach-Af...</td>\n",
       "    </tr>\n",
       "    <tr>\n",
       "      <th>57</th>\n",
       "      <td>Anne König</td>\n",
       "      <td>Sehr geehrte Frau Präsidentin! Verehrte Kolleg...</td>\n",
       "    </tr>\n",
       "    <tr>\n",
       "      <th>59</th>\n",
       "      <td>Karsten Hilse</td>\n",
       "      <td>Frau Präsidentin! Meine Damen und Herren! Lieb...</td>\n",
       "    </tr>\n",
       "    <tr>\n",
       "      <th>89</th>\n",
       "      <td>René Bochmann</td>\n",
       "      <td>Sehr geehrter Herr Präsident! Sehr geehrte Kol...</td>\n",
       "    </tr>\n",
       "    <tr>\n",
       "      <th>129</th>\n",
       "      <td>Klaus-Peter Willsch</td>\n",
       "      <td>Herr Präsident! Meine sehr verehrten Damen und...</td>\n",
       "    </tr>\n",
       "  </tbody>\n",
       "</table>\n",
       "</div>"
      ],
      "text/plain": [
       "                  speaker                                            content\n",
       "51       Maria-Lena Weiss  Frau Präsidentin! Liebe Kolleginnen und Kolleg...\n",
       "54          Michael Kruse  Liebe Kolleginnen und Kollegen! Dieser Nach-Af...\n",
       "57             Anne König  Sehr geehrte Frau Präsidentin! Verehrte Kolleg...\n",
       "59          Karsten Hilse  Frau Präsidentin! Meine Damen und Herren! Lieb...\n",
       "89          René Bochmann  Sehr geehrter Herr Präsident! Sehr geehrte Kol...\n",
       "129   Klaus-Peter Willsch  Herr Präsident! Meine sehr verehrten Damen und..."
      ]
     },
     "execution_count": 69,
     "metadata": {},
     "output_type": "execute_result"
    }
   ],
   "source": [
    "# check if regex works\n",
    "\n",
    "df_speeches[df_speeches.content.str.contains(\".*[kK][oO][hH][lL][eE].*\")]"
   ]
  },
  {
   "cell_type": "code",
   "execution_count": 73,
   "id": "315433ec-592c-454d-aecc-6aa85d62caf3",
   "metadata": {},
   "outputs": [
    {
     "data": {
      "text/plain": [
       "['Kohle,',\n",
       " 'Kohlekraftwerke',\n",
       " 'Kohle',\n",
       " 'Kohleausstieg',\n",
       " 'Braunkohlekraftwerke',\n",
       " 'Kohlekraftwerke',\n",
       " 'Kohlestrom']"
      ]
     },
     "execution_count": 73,
     "metadata": {},
     "output_type": "execute_result"
    }
   ],
   "source": [
    "pattern = re.compile(\".*[kK][oO][hH][lL][eE].*\")\n",
    "\n",
    "protocol = ' '.join(list(df_speeches['content'])) \n",
    "\n",
    "matches = []\n",
    "for item in protocol.split(' '):\n",
    "    if re.match(pattern, item) != None:\n",
    "        matches.append(item)     \n",
    "matches"
   ]
  },
  {
   "cell_type": "code",
   "execution_count": 76,
   "id": "37d258c6-d9fb-4473-98f4-0aaa249a913f",
   "metadata": {},
   "outputs": [
    {
     "data": {
      "text/plain": [
       "{'Kohle,': 1,\n",
       " 'Kohlekraftwerke': 2,\n",
       " 'Kohle': 1,\n",
       " 'Kohleausstieg': 1,\n",
       " 'Braunkohlekraftwerke': 1,\n",
       " 'Kohlestrom': 1}"
      ]
     },
     "execution_count": 76,
     "metadata": {},
     "output_type": "execute_result"
    }
   ],
   "source": [
    "K_freq = {x:matches.count(x) for x in matches}\n",
    "K_freq"
   ]
  }
 ],
 "metadata": {
  "kernelspec": {
   "display_name": "Python 3 (ipykernel)",
   "language": "python",
   "name": "python3"
  },
  "language_info": {
   "codemirror_mode": {
    "name": "ipython",
    "version": 3
   },
   "file_extension": ".py",
   "mimetype": "text/x-python",
   "name": "python",
   "nbconvert_exporter": "python",
   "pygments_lexer": "ipython3",
   "version": "3.10.8"
  }
 },
 "nbformat": 4,
 "nbformat_minor": 5
}
